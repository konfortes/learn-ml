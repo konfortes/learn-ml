{
 "cells": [
  {
   "cell_type": "markdown",
   "id": "6aee4156",
   "metadata": {},
   "source": [
    "# Complete Python NumPy Tutorial (Creating Arrays, Indexing, Math, Statistics, Reshaping)"
   ]
  },
  {
   "cell_type": "code",
   "execution_count": 2,
   "id": "e95990f6",
   "metadata": {},
   "outputs": [],
   "source": [
    "import numpy as np"
   ]
  },
  {
   "cell_type": "markdown",
   "id": "2c3e85a3",
   "metadata": {},
   "source": [
    "## Basics"
   ]
  },
  {
   "cell_type": "code",
   "execution_count": 4,
   "id": "b5793160",
   "metadata": {},
   "outputs": [
    {
     "data": {
      "text/plain": [
       "array([1, 2, 3])"
      ]
     },
     "execution_count": 4,
     "metadata": {},
     "output_type": "execute_result"
    }
   ],
   "source": [
    "a = np.array([1,2,3])\n",
    "a"
   ]
  },
  {
   "cell_type": "code",
   "execution_count": 7,
   "id": "dc1334b9",
   "metadata": {},
   "outputs": [
    {
     "data": {
      "text/plain": [
       "array([[9., 8., 7.],\n",
       "       [6., 5., 4.]])"
      ]
     },
     "execution_count": 7,
     "metadata": {},
     "output_type": "execute_result"
    }
   ],
   "source": [
    "b = np.array([[9.0, 8.0, 7.0], [6.0, 5.0, 4.0]])\n",
    "b"
   ]
  },
  {
   "cell_type": "code",
   "execution_count": 11,
   "id": "65affd90",
   "metadata": {},
   "outputs": [
    {
     "name": "stdout",
     "output_type": "stream",
     "text": [
      "a dimensions: 1\n",
      "b dimensions: 2\n",
      "a shape: (3,)\n",
      "b shape: (2, 3)\n"
     ]
    }
   ],
   "source": [
    "# Dimension\n",
    "print(f\"a dimensions: {a.ndim}\")\n",
    "print(f\"b dimensions: {b.ndim}\")\n",
    "\n",
    "# Shape\n",
    "print(f\"a shape: {a.shape}\")\n",
    "print(f\"b shape: {b.shape}\")"
   ]
  },
  {
   "cell_type": "code",
   "execution_count": 17,
   "id": "d1bc0812",
   "metadata": {},
   "outputs": [
    {
     "name": "stdout",
     "output_type": "stream",
     "text": [
      "int64\n",
      "float64\n"
     ]
    }
   ],
   "source": [
    "# Type\n",
    "print(a.dtype)\n",
    "print(b.dtype)"
   ]
  },
  {
   "cell_type": "code",
   "execution_count": 21,
   "id": "f8c55fe9",
   "metadata": {},
   "outputs": [
    {
     "name": "stdout",
     "output_type": "stream",
     "text": [
      "8\n",
      "8\n",
      "2\n",
      "3\n"
     ]
    }
   ],
   "source": [
    "# Size\n",
    "print(a.itemsize)\n",
    "print(b.itemsize)\n",
    "\n",
    "c = np.array([1,2,3], dtype='int16')\n",
    "print(c.itemsize)\n",
    "print(c.size)"
   ]
  },
  {
   "cell_type": "markdown",
   "id": "355eaace",
   "metadata": {},
   "source": [
    "## Accessing/Changing specific elements, rows, columns, etc"
   ]
  },
  {
   "cell_type": "code",
   "execution_count": 24,
   "id": "2d06e399",
   "metadata": {},
   "outputs": [
    {
     "name": "stdout",
     "output_type": "stream",
     "text": [
      "(2, 7)\n"
     ]
    }
   ],
   "source": [
    "a = np.array([[1,2,3,4,5,6,7],[8,9,10,11,12,13,14]])\n",
    "print(a.shape)"
   ]
  },
  {
   "cell_type": "markdown",
   "id": "ae9b1abc",
   "metadata": {},
   "source": [
    "#### Get a specific element"
   ]
  },
  {
   "cell_type": "code",
   "execution_count": 38,
   "id": "8ef773ac",
   "metadata": {},
   "outputs": [
    {
     "data": {
      "text/plain": [
       "13"
      ]
     },
     "execution_count": 38,
     "metadata": {},
     "output_type": "execute_result"
    }
   ],
   "source": [
    "a[1, 5]"
   ]
  },
  {
   "cell_type": "code",
   "execution_count": 39,
   "id": "5ce32aae",
   "metadata": {},
   "outputs": [
    {
     "data": {
      "text/plain": [
       "13"
      ]
     },
     "execution_count": 39,
     "metadata": {},
     "output_type": "execute_result"
    }
   ],
   "source": [
    "# negative notation\n",
    "a[1, -2]"
   ]
  },
  {
   "cell_type": "markdown",
   "id": "a435036c",
   "metadata": {},
   "source": [
    "#### Get a specific row"
   ]
  },
  {
   "cell_type": "code",
   "execution_count": 29,
   "id": "274086a5",
   "metadata": {},
   "outputs": [
    {
     "name": "stdout",
     "output_type": "stream",
     "text": [
      "[1 2 3 4 5 6 7]\n"
     ]
    }
   ],
   "source": [
    "a[0, :]"
   ]
  },
  {
   "cell_type": "markdown",
   "id": "88b01743",
   "metadata": {},
   "source": [
    "#### Get a specific column"
   ]
  },
  {
   "cell_type": "code",
   "execution_count": 32,
   "id": "1c31e77f",
   "metadata": {},
   "outputs": [
    {
     "data": {
      "text/plain": [
       "array([ 3, 10])"
      ]
     },
     "execution_count": 32,
     "metadata": {},
     "output_type": "execute_result"
    }
   ],
   "source": [
    "a[:, 2]"
   ]
  },
  {
   "cell_type": "markdown",
   "id": "01303f9d",
   "metadata": {},
   "source": [
    "#### Getting a little more fancy [startindex:endindex:stepsize]"
   ]
  },
  {
   "cell_type": "code",
   "execution_count": 37,
   "id": "fb36d76f",
   "metadata": {},
   "outputs": [
    {
     "data": {
      "text/plain": [
       "array([2, 4, 6])"
      ]
     },
     "execution_count": 37,
     "metadata": {},
     "output_type": "execute_result"
    }
   ],
   "source": [
    "a[0, 1:6:2]"
   ]
  },
  {
   "cell_type": "code",
   "execution_count": 40,
   "id": "35ee42b2",
   "metadata": {},
   "outputs": [],
   "source": [
    "### Changing values"
   ]
  },
  {
   "cell_type": "code",
   "execution_count": 43,
   "id": "c1d0d44d",
   "metadata": {},
   "outputs": [
    {
     "name": "stdout",
     "output_type": "stream",
     "text": [
      "[[ 1  2 27  4  5  6  7]\n",
      " [ 8  9 27 11 12 20 14]]\n",
      "[[ 1  2 27  4  5  6  7]\n",
      " [ 8  9 27 11 12 20 14]]\n"
     ]
    }
   ],
   "source": [
    "a[1,5] = 20\n",
    "print(a)\n",
    "\n",
    "# change a whole column\n",
    "a[:, 2] = 27\n",
    "print(a)"
   ]
  },
  {
   "cell_type": "markdown",
   "id": "939a0498",
   "metadata": {},
   "source": [
    "### 3d Example"
   ]
  },
  {
   "cell_type": "code",
   "execution_count": 44,
   "id": "364f4fb9",
   "metadata": {},
   "outputs": [
    {
     "data": {
      "text/plain": [
       "array([[[1, 2],\n",
       "        [3, 4]],\n",
       "\n",
       "       [[5, 6],\n",
       "        [7, 8]]])"
      ]
     },
     "execution_count": 44,
     "metadata": {},
     "output_type": "execute_result"
    }
   ],
   "source": [
    "b = np.array([[[1,2], [3,4]], [[5,6], [7,8]]])\n",
    "b"
   ]
  },
  {
   "cell_type": "markdown",
   "id": "d7487107",
   "metadata": {},
   "source": [
    "#### Get specific element - work outside in"
   ]
  },
  {
   "cell_type": "code",
   "execution_count": 45,
   "id": "ee0299c0",
   "metadata": {},
   "outputs": [
    {
     "data": {
      "text/plain": [
       "4"
      ]
     },
     "execution_count": 45,
     "metadata": {},
     "output_type": "execute_result"
    }
   ],
   "source": [
    "b[0,1,1]"
   ]
  },
  {
   "cell_type": "markdown",
   "id": "ff33a630",
   "metadata": {},
   "source": [
    "### Initialize Arrays"
   ]
  },
  {
   "cell_type": "code",
   "execution_count": 51,
   "id": "649841e7",
   "metadata": {},
   "outputs": [
    {
     "name": "stdout",
     "output_type": "stream",
     "text": [
      "[0. 0. 0. 0. 0.]\n",
      "[[0. 0. 0.]\n",
      " [0. 0. 0.]]\n",
      "[1 1 1 1 1]\n",
      "[[73 73]\n",
      " [73 73]]\n"
     ]
    }
   ],
   "source": [
    "a = np.zeros(5)\n",
    "b = np.zeros((2,3))\n",
    "print(a)\n",
    "print(b)\n",
    "c = np.ones(5, dtype='int16')\n",
    "print(c)\n",
    "d = np.full((2,2), 73)\n",
    "print(d)"
   ]
  },
  {
   "cell_type": "markdown",
   "id": "5822ec2a",
   "metadata": {},
   "source": [
    "#### Full Like"
   ]
  },
  {
   "cell_type": "code",
   "execution_count": 52,
   "id": "cab02417",
   "metadata": {},
   "outputs": [
    {
     "name": "stdout",
     "output_type": "stream",
     "text": [
      "[[37 37 37 37 37]\n",
      " [37 37 37 37 37]\n",
      " [37 37 37 37 37]\n",
      " [37 37 37 37 37]]\n",
      "[[73 73 73 73 73]\n",
      " [73 73 73 73 73]\n",
      " [73 73 73 73 73]\n",
      " [73 73 73 73 73]]\n"
     ]
    }
   ],
   "source": [
    "a = np.full((4,5), 37)\n",
    "b = np.full_like(a, 73)\n",
    "print(a)\n",
    "print(b)"
   ]
  },
  {
   "cell_type": "markdown",
   "id": "e3ca0671",
   "metadata": {},
   "source": [
    "#### Random"
   ]
  },
  {
   "cell_type": "code",
   "execution_count": 56,
   "id": "af2e97ee",
   "metadata": {},
   "outputs": [
    {
     "data": {
      "text/plain": [
       "array([[0, 6],\n",
       "       [0, 6],\n",
       "       [1, 6],\n",
       "       [6, 2]])"
      ]
     },
     "execution_count": 56,
     "metadata": {},
     "output_type": "execute_result"
    }
   ],
   "source": [
    "np.random.randint(7, size=(4,2))"
   ]
  },
  {
   "cell_type": "code",
   "execution_count": 59,
   "id": "0f5b8fce",
   "metadata": {},
   "outputs": [
    {
     "data": {
      "text/plain": [
       "array([[10,  6],\n",
       "       [ 5, 10],\n",
       "       [ 8,  8],\n",
       "       [ 7,  6]])"
      ]
     },
     "execution_count": 59,
     "metadata": {},
     "output_type": "execute_result"
    }
   ],
   "source": [
    "np.random.randint(1,11, size=(4,2))"
   ]
  },
  {
   "cell_type": "markdown",
   "id": "284e05a3",
   "metadata": {},
   "source": [
    "### Careful when copying arrays"
   ]
  },
  {
   "cell_type": "code",
   "execution_count": 62,
   "id": "62bf7bb1",
   "metadata": {},
   "outputs": [
    {
     "name": "stdout",
     "output_type": "stream",
     "text": [
      "[0 2 3]\n"
     ]
    }
   ],
   "source": [
    "a = np.array([1,2,3])\n",
    "b = a\n",
    "b[0] = 0\n",
    "print(a)"
   ]
  },
  {
   "cell_type": "markdown",
   "id": "4d2873ad",
   "metadata": {},
   "source": [
    "#### Use copy"
   ]
  },
  {
   "cell_type": "code",
   "execution_count": 64,
   "id": "2451b34c",
   "metadata": {},
   "outputs": [
    {
     "name": "stdout",
     "output_type": "stream",
     "text": [
      "[1 2 3]\n"
     ]
    }
   ],
   "source": [
    "a = np.array([1,2,3])\n",
    "b = np.copy(a)\n",
    "b[0] = 0\n",
    "print(a)"
   ]
  },
  {
   "cell_type": "markdown",
   "id": "aa5c4b36",
   "metadata": {},
   "source": [
    "## Mathematics"
   ]
  },
  {
   "cell_type": "code",
   "execution_count": 70,
   "id": "67a7a135",
   "metadata": {},
   "outputs": [
    {
     "name": "stdout",
     "output_type": "stream",
     "text": [
      "[1 2 3]\n",
      "[3 4 5]\n",
      "[ 9 16 25]\n",
      "[18 32 50]\n"
     ]
    }
   ],
   "source": [
    "a = np.array([1,2,3])\n",
    "print(a)\n",
    "a += 2\n",
    "print(a)\n",
    "a = a ** 2\n",
    "print(a)\n",
    "a *= 2\n",
    "print(a)"
   ]
  },
  {
   "cell_type": "markdown",
   "id": "a86874bb",
   "metadata": {},
   "source": [
    "## Statistics"
   ]
  },
  {
   "cell_type": "code",
   "execution_count": 76,
   "id": "36c11bf9",
   "metadata": {},
   "outputs": [
    {
     "name": "stdout",
     "output_type": "stream",
     "text": [
      "1\n",
      "[3 6]\n",
      "21\n"
     ]
    }
   ],
   "source": [
    "stats = np.array([[1,2,3],[4,5,6]])\n",
    "print(np.min(stats))\n",
    "print(np.max(stats, axis=1))\n",
    "print(np.sum(stats))"
   ]
  },
  {
   "cell_type": "markdown",
   "id": "e9dfec7c",
   "metadata": {},
   "source": [
    "## Reorganizing Arrays"
   ]
  },
  {
   "cell_type": "code",
   "execution_count": 79,
   "id": "d07322ff",
   "metadata": {},
   "outputs": [
    {
     "name": "stdout",
     "output_type": "stream",
     "text": [
      "[[1 2 3 4]\n",
      " [5 6 7 8]]\n",
      "[[1]\n",
      " [2]\n",
      " [3]\n",
      " [4]\n",
      " [5]\n",
      " [6]\n",
      " [7]\n",
      " [8]]\n"
     ]
    }
   ],
   "source": [
    "before = np.array([[1,2,3,4],[5,6,7,8]])\n",
    "print(before)\n",
    "\n",
    "after = before.reshape((8,1))\n",
    "print(after)"
   ]
  },
  {
   "cell_type": "markdown",
   "id": "ae8678af",
   "metadata": {},
   "source": [
    "#### Stacking"
   ]
  },
  {
   "cell_type": "code",
   "execution_count": 81,
   "id": "439420e0",
   "metadata": {},
   "outputs": [
    {
     "data": {
      "text/plain": [
       "array([[1, 2, 3, 4],\n",
       "       [5, 6, 7, 8],\n",
       "       [5, 6, 7, 8],\n",
       "       [5, 6, 7, 8]])"
      ]
     },
     "execution_count": 81,
     "metadata": {},
     "output_type": "execute_result"
    }
   ],
   "source": [
    "v1 = np.array([1,2,3,4])\n",
    "v2 = np.array([5,6,7,8])\n",
    "\n",
    "np.stack([v1,v2,v2,v2])"
   ]
  },
  {
   "cell_type": "markdown",
   "id": "2be05373",
   "metadata": {},
   "source": [
    "## Misc."
   ]
  },
  {
   "cell_type": "markdown",
   "id": "59ec6983",
   "metadata": {},
   "source": [
    "### Boolean Masking"
   ]
  },
  {
   "cell_type": "code",
   "execution_count": 90,
   "id": "f96953c0",
   "metadata": {},
   "outputs": [
    {
     "name": "stdout",
     "output_type": "stream",
     "text": [
      "[[ 1 10  5]\n",
      " [ 2 12 30]\n",
      " [14  1 22]]\n",
      "[[False False False]\n",
      " [False  True  True]\n",
      " [ True False  True]]\n",
      "[12 30 14 22]\n",
      "True\n",
      "[ True False  True]\n",
      "[False False  True]\n"
     ]
    }
   ],
   "source": [
    "a = np.array([[1,10,5],[2,12,30],[14,1,22]])\n",
    "print(a)\n",
    "\n",
    "print(a > 10)\n",
    "\n",
    "print(a[a > 10])\n",
    "\n",
    "print(np.any(a>10))\n",
    "\n",
    "print(np.any(a>13, axis=0))\n",
    "\n",
    "print(np.all(a>4, axis=0))"
   ]
  },
  {
   "cell_type": "markdown",
   "id": "88fb3001",
   "metadata": {},
   "source": [
    "### Index with a List"
   ]
  },
  {
   "cell_type": "code",
   "execution_count": 85,
   "id": "03a5df04",
   "metadata": {},
   "outputs": [
    {
     "data": {
      "text/plain": [
       "array([2, 3, 9])"
      ]
     },
     "execution_count": 85,
     "metadata": {},
     "output_type": "execute_result"
    }
   ],
   "source": [
    "a = np.array([1,2,3,4,5,6,7,8,9])\n",
    "a[[1,2,-1]]"
   ]
  }
 ],
 "metadata": {
  "kernelspec": {
   "display_name": "Python 3 (ipykernel)",
   "language": "python",
   "name": "python3"
  },
  "language_info": {
   "codemirror_mode": {
    "name": "ipython",
    "version": 3
   },
   "file_extension": ".py",
   "mimetype": "text/x-python",
   "name": "python",
   "nbconvert_exporter": "python",
   "pygments_lexer": "ipython3",
   "version": "3.8.5"
  }
 },
 "nbformat": 4,
 "nbformat_minor": 5
}
