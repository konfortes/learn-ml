{
 "cells": [
  {
   "cell_type": "markdown",
   "id": "1f879c10",
   "metadata": {},
   "source": [
    "# Sales Analysis"
   ]
  },
  {
   "cell_type": "markdown",
   "id": "15c76db2",
   "metadata": {},
   "source": [
    "## Installation"
   ]
  },
  {
   "cell_type": "markdown",
   "id": "5c974e47",
   "metadata": {},
   "source": [
    "pip install pandas"
   ]
  },
  {
   "cell_type": "markdown",
   "id": "95d892da",
   "metadata": {},
   "source": [
    "## Imports"
   ]
  },
  {
   "cell_type": "code",
   "execution_count": 1,
   "id": "628a9664",
   "metadata": {},
   "outputs": [],
   "source": [
    "import pandas as pd\n",
    "import os"
   ]
  },
  {
   "cell_type": "markdown",
   "id": "84030deb",
   "metadata": {},
   "source": [
    "##### Merging 12 months of sales data into a single file"
   ]
  },
  {
   "cell_type": "code",
   "execution_count": 9,
   "id": "d0f359f1",
   "metadata": {},
   "outputs": [],
   "source": [
    "files = [file for file in os.listdir('./Sales_Data')]\n",
    "\n",
    "all_months_data = pd.DataFrame()\n",
    "\n",
    "for file in files:\n",
    "    df = pd.read_csv(f\"./Sales_Data/{file}\")\n",
    "    all_data = pd.concat([all_months_data, df])\n",
    "    \n",
    "all_data.head()\n",
    "\n",
    "all_data.to_csv('bla.csv')\n"
   ]
  },
  {
   "cell_type": "markdown",
   "id": "66175dff",
   "metadata": {},
   "source": [
    "### Cleanup the data"
   ]
  },
  {
   "cell_type": "markdown",
   "id": "99543168",
   "metadata": {},
   "source": [
    "#### Drop rows of NaN"
   ]
  },
  {
   "cell_type": "code",
   "execution_count": 3,
   "id": "8e6ff147",
   "metadata": {},
   "outputs": [],
   "source": [
    "nan_df = all_data[all_data.isna().any(axis=1)]\n",
    "nan_df.head()\n",
    "\n",
    "all_data = all_data.dropna(how='all')\n"
   ]
  },
  {
   "cell_type": "markdown",
   "id": "2ed44b93",
   "metadata": {},
   "source": [
    "#### Find 'Or' and delete it"
   ]
  },
  {
   "cell_type": "code",
   "execution_count": 4,
   "id": "81e2e585",
   "metadata": {},
   "outputs": [],
   "source": [
    "all_data = all_data[all_data['Order Date'].str[0:2] != 'Or']"
   ]
  },
  {
   "cell_type": "markdown",
   "id": "041a818c",
   "metadata": {},
   "source": [
    "#### Convert columns to the correct type"
   ]
  },
  {
   "cell_type": "code",
   "execution_count": 5,
   "id": "d6ae6267",
   "metadata": {},
   "outputs": [],
   "source": [
    "all_data['Quantity Ordered'] = pd.to_numeric(all_data['Quantity Ordered'])\n",
    "all_data['Price Each'] = pd.to_numeric(all_data['Price Each'])\n",
    "# all_data.head()"
   ]
  },
  {
   "cell_type": "markdown",
   "id": "883f7d44",
   "metadata": {},
   "source": [
    "### Augment data with additional columns"
   ]
  },
  {
   "cell_type": "markdown",
   "id": "d2ce5ffe",
   "metadata": {},
   "source": [
    "#### Add Month Column"
   ]
  },
  {
   "cell_type": "code",
   "execution_count": 6,
   "id": "ec605969",
   "metadata": {},
   "outputs": [],
   "source": [
    "all_data['Month'] = all_data['Order Date'].str[0:2]\n",
    "all_data['Month'] = all_data['Month'].astype('int32')\n",
    "# all_data.head()"
   ]
  },
  {
   "cell_type": "markdown",
   "id": "421777e2",
   "metadata": {},
   "source": [
    "#### Add a Sales column"
   ]
  },
  {
   "cell_type": "code",
   "execution_count": 7,
   "id": "c267c8f0",
   "metadata": {},
   "outputs": [],
   "source": [
    "all_data['Sales'] = all_data['Quantity Ordered'] * all_data['Price Each']\n",
    "# all_data.head()"
   ]
  },
  {
   "cell_type": "markdown",
   "id": "cae869ba",
   "metadata": {},
   "source": [
    "#### What was the best month for sales? How much was earned that month?"
   ]
  },
  {
   "cell_type": "code",
   "execution_count": 8,
   "id": "695a53fb",
   "metadata": {},
   "outputs": [
    {
     "data": {
      "text/html": [
       "<div>\n",
       "<style scoped>\n",
       "    .dataframe tbody tr th:only-of-type {\n",
       "        vertical-align: middle;\n",
       "    }\n",
       "\n",
       "    .dataframe tbody tr th {\n",
       "        vertical-align: top;\n",
       "    }\n",
       "\n",
       "    .dataframe thead th {\n",
       "        text-align: right;\n",
       "    }\n",
       "</style>\n",
       "<table border=\"1\" class=\"dataframe\">\n",
       "  <thead>\n",
       "    <tr style=\"text-align: right;\">\n",
       "      <th></th>\n",
       "      <th>Quantity Ordered</th>\n",
       "      <th>Price Each</th>\n",
       "      <th>Sales</th>\n",
       "    </tr>\n",
       "    <tr>\n",
       "      <th>Month</th>\n",
       "      <th></th>\n",
       "      <th></th>\n",
       "      <th></th>\n",
       "    </tr>\n",
       "  </thead>\n",
       "  <tbody>\n",
       "    <tr>\n",
       "      <th>6</th>\n",
       "      <td>15234</td>\n",
       "      <td>2559498.09</td>\n",
       "      <td>2575264.92</td>\n",
       "    </tr>\n",
       "    <tr>\n",
       "      <th>7</th>\n",
       "      <td>21</td>\n",
       "      <td>2998.49</td>\n",
       "      <td>3028.38</td>\n",
       "    </tr>\n",
       "  </tbody>\n",
       "</table>\n",
       "</div>"
      ],
      "text/plain": [
       "       Quantity Ordered  Price Each       Sales\n",
       "Month                                          \n",
       "6                 15234  2559498.09  2575264.92\n",
       "7                    21     2998.49     3028.38"
      ]
     },
     "execution_count": 8,
     "metadata": {},
     "output_type": "execute_result"
    }
   ],
   "source": [
    "\n",
    "all_data.groupby(by='Month').sum()"
   ]
  },
  {
   "cell_type": "code",
   "execution_count": null,
   "id": "c2db6070",
   "metadata": {},
   "outputs": [],
   "source": []
  },
  {
   "cell_type": "code",
   "execution_count": null,
   "id": "7c293a9a",
   "metadata": {},
   "outputs": [],
   "source": []
  }
 ],
 "metadata": {
  "kernelspec": {
   "display_name": "Python 3 (ipykernel)",
   "language": "python",
   "name": "python3"
  },
  "language_info": {
   "codemirror_mode": {
    "name": "ipython",
    "version": 3
   },
   "file_extension": ".py",
   "mimetype": "text/x-python",
   "name": "python",
   "nbconvert_exporter": "python",
   "pygments_lexer": "ipython3",
   "version": "3.8.5"
  }
 },
 "nbformat": 4,
 "nbformat_minor": 5
}
